{
 "cells": [
  {
   "cell_type": "markdown",
   "id": "5a3eda02",
   "metadata": {},
   "source": [
    "## 1. Why are functions advantageous to have in your programs?"
   ]
  },
  {
   "cell_type": "markdown",
   "id": "912a51e0",
   "metadata": {},
   "source": [
    "Functions enhance reusability, abstraction, readability, maintainability, modularity, testing, debugging, and code efficiency in programs, making them an essential and advantageous feature in software development."
   ]
  },
  {
   "cell_type": "markdown",
   "id": "bc80ae1c",
   "metadata": {},
   "source": [
    "## 2. When does the code in a function run: when it&#39;s specified or when it&#39;s called?"
   ]
  },
  {
   "cell_type": "markdown",
   "id": "8c2b5a67",
   "metadata": {},
   "source": [
    "The code inside a function runs when the function is called or invoked, not when it is specified or defined.\n",
    "\n",
    "When you define a function, you provide the code block that represents the functionality of the function. However, this code is not executed until the function is called in your program.\n",
    "\n",
    "When the function is called, the program jumps to the function's code block and starts executing the statements within it from top to bottom. The execution continues until either the function reaches a return statement, encounters an exception, or completes all the statements in the function."
   ]
  },
  {
   "cell_type": "markdown",
   "id": "e9ceae81",
   "metadata": {},
   "source": [
    "## 3. What statement creates a function?"
   ]
  },
  {
   "cell_type": "markdown",
   "id": "b67f07cc",
   "metadata": {},
   "source": [
    "In Python, the statement used to create a function is called the \"def\" statement.This keyword is used to indicate the start of a function definition.Once you define a function using the \"def\" statement, you can call or invoke the function in your program by using its name followed by parentheses, optionally passing any required arguments."
   ]
  },
  {
   "cell_type": "markdown",
   "id": "589cb13a",
   "metadata": {},
   "source": [
    "## 4. What is the difference between a function and a function call?"
   ]
  },
  {
   "cell_type": "markdown",
   "id": "5581b686",
   "metadata": {},
   "source": [
    "A function is a defined block of code that encapsulates a specific functionality, while a function call is the act of actually using that function in the program by invoking it with the required arguments. The function is defined once and can be called multiple times from different parts of the program, allowing for code reuse and modularity."
   ]
  },
  {
   "cell_type": "markdown",
   "id": "ef1bb0f3",
   "metadata": {},
   "source": [
    "## 5. How many global scopes are there in a Python program? How many local scopes?"
   ]
  },
  {
   "cell_type": "markdown",
   "id": "1f8567f3",
   "metadata": {},
   "source": [
    "In a Python program, there is only one global scope, which is the outermost scope. It is created when the program starts and remains accessible throughout the entire program. Variables defined in the global scope can be accessed from anywhere within the program, including inside functions.\n",
    "\n",
    "On the other hand, the number of local scopes in a Python program can vary. A local scope is created whenever a function is called or a block of code is executed. Each function call or code block has its own local scope, which is separate and independent from other local scopes"
   ]
  },
  {
   "cell_type": "markdown",
   "id": "7b040068",
   "metadata": {},
   "source": [
    "## 6. What happens to variables in a local scope when the function call returns?"
   ]
  },
  {
   "cell_type": "markdown",
   "id": "b0f98c5c",
   "metadata": {},
   "source": [
    "When a function call returns in Python, the local variables defined within that function's scope are typically destroyed or deallocated. This means that the memory occupied by those variables is freed up and can be reused by the program.\n",
    "\n",
    "Once the function call returns, the local scope associated with that function is no longer accessible. Any variables defined within that local scope cease to exist, and attempts to access them from outside the function will result in a NameError."
   ]
  },
  {
   "cell_type": "markdown",
   "id": "555bb849",
   "metadata": {},
   "source": [
    "## 7. What is the concept of a return value? Is it possible to have a return value in an expression?"
   ]
  },
  {
   "cell_type": "markdown",
   "id": "ce3ea331",
   "metadata": {},
   "source": [
    "The concept of a return value refers to the value that a function produces and provides back to the caller when the function is executed. It is the result or output of the function's computation or operation.\n",
    "\n",
    "When a function encounters a return statement, it immediately exits the function, and the value specified in the return statement is passed back as the return value of the function. The return value can be of any data type, including numbers, strings, booleans, lists, dictionaries, or even custom objects."
   ]
  },
  {
   "cell_type": "markdown",
   "id": "8248db1c",
   "metadata": {},
   "source": [
    "## 8. If a function does not have a return statement, what is the return value of a call to that function?"
   ]
  },
  {
   "cell_type": "markdown",
   "id": "bc407e91",
   "metadata": {},
   "source": [
    "If a function does not have a return statement, or if it reaches the end of the function without encountering a return statement, the return value of a call to that function is None. None is a special built-in value in Python that represents the absence of a value.\n",
    "\n",
    "When a function lacks a return statement or explicitly returns None, it indicates that the function does not produce any meaningful result or output. Instead, its purpose might be to perform certain operations, modify data, or have side effects without explicitly returning a value."
   ]
  },
  {
   "cell_type": "markdown",
   "id": "10216645",
   "metadata": {},
   "source": [
    "## 9. How do you make a function variable refer to the global variable?"
   ]
  },
  {
   "cell_type": "markdown",
   "id": "a388e299",
   "metadata": {},
   "source": [
    "If we want to make a function variable refer to a global variable, we can use the global keyword within the function. This keyword allows you to indicate that a variable being used in the function should refer to the global variable with the same name."
   ]
  },
  {
   "cell_type": "code",
   "execution_count": 1,
   "id": "9efdbd48",
   "metadata": {},
   "outputs": [
    {
     "name": "stdout",
     "output_type": "stream",
     "text": [
      "10\n",
      "20\n"
     ]
    }
   ],
   "source": [
    "x = 10  # Global variable\n",
    "\n",
    "def modify_global():\n",
    "    global x  # Using the global keyword to reference the global variable\n",
    "    x = 20  # Modifying the global variable\n",
    "\n",
    "print(x)  # Output: 10\n",
    "modify_global()\n",
    "print(x)  # Output: 20"
   ]
  },
  {
   "cell_type": "markdown",
   "id": "be2eb258",
   "metadata": {},
   "source": [
    "## 10. What is the data type of None?"
   ]
  },
  {
   "cell_type": "markdown",
   "id": "9271177a",
   "metadata": {},
   "source": [
    "In Python, the data type of None is NoneType. NoneType is a built-in type that represents the absence of a value or the lack of a specific object.\n",
    "\n",
    "None is often used to indicate the absence of a return value in functions that do not explicitly return anything. It can also be used as a default value for function parameters or variables when you want to represent the absence of a value."
   ]
  },
  {
   "cell_type": "markdown",
   "id": "afde8066",
   "metadata": {},
   "source": [
    "## 11. What does the sentence import areallyourpetsnamederic do?"
   ]
  },
  {
   "cell_type": "markdown",
   "id": "aecdafcc",
   "metadata": {},
   "source": [
    "The sentence \"import areallyourpetsnamederic\" is not a valid import statement in Python. In Python, the import statement is used to import modules or packages that contain reusable code and functionality."
   ]
  },
  {
   "cell_type": "markdown",
   "id": "a6d587c9",
   "metadata": {},
   "source": [
    "## 12. If you had a bacon() feature in a spam module, what would you call it after importing spam?"
   ]
  },
  {
   "cell_type": "markdown",
   "id": "5ad78c7d",
   "metadata": {},
   "source": [
    "If you have imported a module named spam that contains a feature or function named bacon(), you can call it using the dot notation after importing the module."
   ]
  },
  {
   "cell_type": "markdown",
   "id": "71f41e27",
   "metadata": {},
   "source": [
    "import spam\n",
    "spam.bacon()"
   ]
  },
  {
   "cell_type": "markdown",
   "id": "52f113e8",
   "metadata": {},
   "source": [
    "## 13. What can you do to save a programme from crashing if it encounters an error?"
   ]
  },
  {
   "cell_type": "markdown",
   "id": "d69dbc16",
   "metadata": {},
   "source": [
    "To prevent a program from crashing when it encounters an error, you can implement error handling techniques. In Python, you can use try-except blocks to catch and handle exceptions that may occur during the execution of your code.\n",
    "\n",
    "The basic structure of a try-except block is as follows:\n",
    "\n",
    "try:\n",
    "    # Code that might raise an exception\n",
    "    # ...\n",
    "    # ...\n",
    "except ExceptionType:\n",
    "    # Code to handle the exception\n",
    "    # ..."
   ]
  },
  {
   "cell_type": "markdown",
   "id": "f07dd753",
   "metadata": {},
   "source": [
    "## 14. What is the purpose of the try clause? What is the purpose of the except clause?"
   ]
  },
  {
   "cell_type": "markdown",
   "id": "0470b528",
   "metadata": {},
   "source": [
    "The purpose of the try clause in a try-except block is to enclose a section of code that may potentially raise an exception. It allows you to specify the code that you want to monitor for exceptions. If an exception occurs within the try block, the program flow is transferred to the corresponding except block."
   ]
  }
 ],
 "metadata": {
  "kernelspec": {
   "display_name": "Python 3 (ipykernel)",
   "language": "python",
   "name": "python3"
  },
  "language_info": {
   "codemirror_mode": {
    "name": "ipython",
    "version": 3
   },
   "file_extension": ".py",
   "mimetype": "text/x-python",
   "name": "python",
   "nbconvert_exporter": "python",
   "pygments_lexer": "ipython3",
   "version": "3.9.13"
  }
 },
 "nbformat": 4,
 "nbformat_minor": 5
}
